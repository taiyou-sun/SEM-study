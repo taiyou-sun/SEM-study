{
 "cells": [
  {
   "cell_type": "code",
   "execution_count": 3,
   "metadata": {},
   "outputs": [
    {
     "name": "stdout",
     "output_type": "stream",
     "text": [
      "Training files: 70\n",
      "Validation files: 15\n",
      "Test files: 15\n"
     ]
    }
   ],
   "source": [
    "import os\n",
    "import shutil\n",
    "from sklearn.model_selection import train_test_split\n",
    "\n",
    "# ディレクトリのパス\n",
    "# studio_dir = '../data/studio'\n",
    "# train_dir = '../data/train/studio'\n",
    "# val_dir = '../data/val/studio'\n",
    "# test_dir = '../data/test/studio'\n",
    "\n",
    "\n",
    "others_dir = '/mnt/data/datasets/SEM/dataset_v1/anomaly/n3'\n",
    "train_dir = './data/train/anomaly2'\n",
    "val_dir = './data/val/anomaly2'\n",
    "test_dir = './data/test/anomaly2'\n",
    "\n",
    "# データセットの画像ファイルリストを取得\n",
    "# studio_files = [os.path.join(studio_dir, f) for f in os.listdir(studio_dir) if os.path.isfile(os.path.join(studio_dir, f))]\n",
    "others_files = [os.path.join(others_dir, f) for f in os.listdir(others_dir) if os.path.isfile(os.path.join(others_dir, f))]\n",
    "\n",
    "# 全画像ファイルリスト\n",
    "\n",
    "# データセットを訓練、検証、テストに分割\n",
    "train_files, test_files = train_test_split(others_files, test_size=0.3, random_state=42)\n",
    "val_files, test_files = train_test_split(test_files, test_size=0.5, random_state=42)\n",
    "\n",
    "# 分割したデータセットを指定したディレクトリにコピー\n",
    "def copy_files(files, dest_dir):\n",
    "    if not os.path.exists(dest_dir):\n",
    "        os.makedirs(dest_dir)\n",
    "    for f in files:\n",
    "        shutil.copy(f, dest_dir)\n",
    "\n",
    "# ファイルを各ディレクトリにコピー\n",
    "copy_files(train_files, train_dir)\n",
    "copy_files(val_files, val_dir)\n",
    "copy_files(test_files, test_dir)\n",
    "\n",
    "print(f\"Training files: {len(train_files)}\")\n",
    "print(f\"Validation files: {len(val_files)}\")\n",
    "print(f\"Test files: {len(test_files)}\")\n"
   ]
  },
  {
   "cell_type": "code",
   "execution_count": 6,
   "metadata": {},
   "outputs": [
    {
     "name": "stdout",
     "output_type": "stream",
     "text": [
      "Renamed '88.jpg' to 'n3_88.jpg'\n",
      "Renamed '52.jpg' to 'n3_52.jpg'\n",
      "Renamed '60.jpg' to 'n3_60.jpg'\n",
      "Renamed '99.jpg' to 'n3_99.jpg'\n",
      "Renamed '23.jpg' to 'n3_23.jpg'\n",
      "Renamed '63.jpg' to 'n3_63.jpg'\n",
      "Renamed '48.jpg' to 'n3_48.jpg'\n",
      "Renamed '61.jpg' to 'n3_61.jpg'\n",
      "Renamed '05.jpg' to 'n3_05.jpg'\n",
      "Renamed '41.jpg' to 'n3_41.jpg'\n",
      "Renamed '40.jpg' to 'n3_40.jpg'\n",
      "Renamed '57.jpg' to 'n3_57.jpg'\n",
      "Renamed '78.jpg' to 'n3_78.jpg'\n",
      "Renamed '95.jpg' to 'n3_95.jpg'\n",
      "Renamed '67.jpg' to 'n3_67.jpg'\n"
     ]
    }
   ],
   "source": [
    "import os\n",
    "\n",
    "def rename_files(folder_path):\n",
    "    \"\"\"\n",
    "    指定されたフォルダ内のファイル名を変更する関数。\n",
    "    ファイル名の先頭に \"n3_\" を追加します。\n",
    "\n",
    "    Args:\n",
    "        folder_path: ファイルが格納されているフォルダのパス。\n",
    "    \"\"\"\n",
    "\n",
    "    for filename in os.listdir(folder_path):\n",
    "        source_path = os.path.join(folder_path, filename)\n",
    "        if os.path.isfile(source_path):  # ディレクトリではなくファイルであることを確認\n",
    "            new_filename = \"n3_\" + filename\n",
    "            new_path = os.path.join(folder_path, new_filename)\n",
    "            os.rename(source_path, new_path)\n",
    "            print(f\"Renamed '{filename}' to '{new_filename}'\")\n",
    "\n",
    "if __name__ == \"__main__\":\n",
    "    folder_path = \"./data/val/anomaly2\"  # 変更したいフォルダのパス\n",
    "    rename_files(folder_path)"
   ]
  }
 ],
 "metadata": {
  "kernelspec": {
   "display_name": "gsam",
   "language": "python",
   "name": "python3"
  },
  "language_info": {
   "codemirror_mode": {
    "name": "ipython",
    "version": 3
   },
   "file_extension": ".py",
   "mimetype": "text/x-python",
   "name": "python",
   "nbconvert_exporter": "python",
   "pygments_lexer": "ipython3",
   "version": "3.10.14"
  }
 },
 "nbformat": 4,
 "nbformat_minor": 2
}
