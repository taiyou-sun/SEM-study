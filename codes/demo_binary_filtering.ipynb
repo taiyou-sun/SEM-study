{
 "cells": [
  {
   "cell_type": "code",
   "execution_count": 14,
   "metadata": {},
   "outputs": [],
   "source": [
    "import os\n",
    "import cv2\n",
    "import numpy as np\n",
    "import matplotlib.pyplot as plt\n",
    "\n",
    "# 入力画像のディレクトリパス\n",
    "input_dir = \"/mnt/data/datasets/SEM/dataset_v1/normal/\"\n",
    "# 出力画像のディレクトリパス\n",
    "output_dir = \"output_binary/\"\n",
    "\n",
    "# しきい値のリスト\n",
    "thresholds = [70, 75, 80, 200]\n",
    "\n",
    "# 出力ディレクトリが存在しない場合は作成する\n",
    "os.makedirs(output_dir, exist_ok=True)\n",
    "\n",
    "# 入力ディレクトリ内の画像ファイルを取得\n",
    "image_files = [f for f in os.listdir(input_dir) if os.path.isfile(os.path.join(input_dir, f))]\n",
    "\n",
    "for image_file in image_files:\n",
    "    # 画像を読み込む\n",
    "    img_path = os.path.join(input_dir, image_file)\n",
    "    img = cv2.imread(img_path, cv2.IMREAD_GRAYSCALE)\n",
    "\n",
    "    # しきい値ごとに処理\n",
    "    for threshold in thresholds:\n",
    "        # しきい値処理 (黒い点を白色に反転)\n",
    "        _, mask = cv2.threshold(255 - img, 255 - threshold, 255, cv2.THRESH_BINARY)\n",
    "\n",
    "        # 膨張処理\n",
    "        kernel = np.ones((10, 10), np.uint8)  # 構造要素 (5x5の正方形)\n",
    "        mask = cv2.dilate(mask, kernel, iterations=1)\n",
    "\n",
    "        # マスクされた部分を白色で塗りつぶす\n",
    "        masked_img = img.copy()\n",
    "        masked_img[mask == 255] = 255\n",
    "\n",
    "        # 出力ファイル名\n",
    "        output_filename = f\"{os.path.splitext(image_file)[0]}_threshold_{threshold}.png\"\n",
    "        output_path = os.path.join(output_dir, output_filename)\n",
    "\n",
    "        # 画像を保存\n",
    "        cv2.imwrite(output_path, masked_img)"
   ]
  }
 ],
 "metadata": {
  "kernelspec": {
   "display_name": "gsam",
   "language": "python",
   "name": "python3"
  },
  "language_info": {
   "codemirror_mode": {
    "name": "ipython",
    "version": 3
   },
   "file_extension": ".py",
   "mimetype": "text/x-python",
   "name": "python",
   "nbconvert_exporter": "python",
   "pygments_lexer": "ipython3",
   "version": "3.10.14"
  }
 },
 "nbformat": 4,
 "nbformat_minor": 2
}
