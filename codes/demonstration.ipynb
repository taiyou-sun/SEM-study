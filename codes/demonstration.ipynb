{
 "cells": [
  {
   "cell_type": "code",
   "execution_count": 1,
   "metadata": {},
   "outputs": [
    {
     "ename": "",
     "evalue": "",
     "output_type": "error",
     "traceback": [
      "\u001b[1;31mThe Kernel crashed while executing code in the current cell or a previous cell. \n",
      "\u001b[1;31mPlease review the code in the cell(s) to identify a possible cause of the failure. \n",
      "\u001b[1;31mClick <a href='https://aka.ms/vscodeJupyterKernelCrash'>here</a> for more info. \n",
      "\u001b[1;31mView Jupyter <a href='command:jupyter.viewOutput'>log</a> for further details."
     ]
    }
   ],
   "source": [
    "import cv2\n",
    "\n",
    "def remove_black_dots(image_path):\n",
    "  \"\"\"\n",
    "  大津の二値化を使用して画像内の黒い点を消す関数\n",
    "\n",
    "  Args:\n",
    "    image_path: 画像ファイルのパス\n",
    "\n",
    "  Returns:\n",
    "    黒い点が消された画像 (NumPy配列)\n",
    "  \"\"\"\n",
    "\n",
    "  # 画像を読み込む\n",
    "  img = cv2.imread(image_path, cv2.IMREAD_GRAYSCALE)\n",
    "\n",
    "  # 大津の二値化を適用\n",
    "  _, thresholded_img = cv2.threshold(img, 0, 255, cv2.THRESH_BINARY + cv2.THRESH_OTSU)\n",
    "\n",
    "  # 黒い点を消すためのカーネルを作成\n",
    "  kernel = cv2.getStructuringElement(cv2.MORPH_ELLIPSE, (3, 3))\n",
    "\n",
    "  # モルフォロジー演算 (オープニング) を適用して黒い点を消す\n",
    "  opening = cv2.morphologyEx(thresholded_img, cv2.MORPH_OPEN, kernel, iterations=2)\n",
    "\n",
    "  return opening\n",
    "\n",
    "# 画像ファイルのパス\n",
    "image_path = '/mnt/data/datasets/SEM/dataset_v1/anomaly/n3/01.jpg'  # ここに画像ファイルのパスを指定してください\n",
    "\n",
    "# 黒い点を消す\n",
    "result_image = remove_black_dots(image_path)\n",
    "\n",
    "# 結果を表示\n",
    "cv2.imshow('Original Image', cv2.imread(image_path))\n",
    "cv2.imshow('Result Image', result_image)\n",
    "cv2.waitKey(0)\n",
    "cv2.destroyAllWindows()\n",
    "\n",
    "# 結果を保存\n",
    "cv2.imwrite('output.jpg', result_image)"
   ]
  }
 ],
 "metadata": {
  "kernelspec": {
   "display_name": "gsam",
   "language": "python",
   "name": "python3"
  },
  "language_info": {
   "codemirror_mode": {
    "name": "ipython",
    "version": 3
   },
   "file_extension": ".py",
   "mimetype": "text/x-python",
   "name": "python",
   "nbconvert_exporter": "python",
   "pygments_lexer": "ipython3",
   "version": "3.10.14"
  }
 },
 "nbformat": 4,
 "nbformat_minor": 2
}
